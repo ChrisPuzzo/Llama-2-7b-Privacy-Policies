{
  "nbformat": 4,
  "nbformat_minor": 0,
  "metadata": {
    "colab": {
      "provenance": []
    },
    "kernelspec": {
      "name": "python3",
      "display_name": "Python 3"
    },
    "language_info": {
      "name": "python"
    }
  },
  "cells": [
    {
      "cell_type": "markdown",
      "source": [
        "The goal of this project is to create a custom chat bot using personalized data. The system is based on Llama 2 and will use PEFT and QLoRA. The first step will be to set the model, then import the training data, finally tune the model using the data."
      ],
      "metadata": {
        "id": "tcFC9zwB55bO"
      }
    },
    {
      "cell_type": "code",
      "execution_count": null,
      "metadata": {
        "id": "zqZ0fk6Y5gBx"
      },
      "outputs": [],
      "source": []
    }
  ]
}